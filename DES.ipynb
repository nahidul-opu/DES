{
 "cells": [
  {
   "cell_type": "markdown",
   "metadata": {},
   "source": [
    "# DES Using PyCrypto"
   ]
  },
  {
   "cell_type": "code",
   "execution_count": 1,
   "metadata": {},
   "outputs": [],
   "source": [
    "from Crypto.Cipher import DES3\n",
    "from Crypto import Random"
   ]
  },
  {
   "cell_type": "code",
   "execution_count": 2,
   "metadata": {},
   "outputs": [],
   "source": [
    "def pad(text,size=16):\n",
    "    l=len(text)\n",
    "    if l%size==0:\n",
    "        return text\n",
    "    spaceToAdd=size-(l%size);\n",
    "    text=text+\"$\"+\" \"*(spaceToAdd-1)\n",
    "    return text\n",
    "\n",
    "def unpad(text):\n",
    "    for i in range(len(text)-1,0,-1):\n",
    "        if text[i]==\"$\":\n",
    "            break;\n",
    "    return text[0:i]\n",
    "\n",
    "def DESEncrypt(plaintext,key,iv=None):\n",
    "    plaintext=pad(plaintext, 16)\n",
    "    cipher = DES3.new(key, DES3.MODE_OFB, iv)\n",
    "    msg = cipher.encrypt(plaintext)\n",
    "    return msg\n",
    "def DESDecrypt(ciphertext,key,iv=None):\n",
    "    cipher = DES3.new(key, DES3.MODE_OFB, iv)\n",
    "    msg = cipher.decrypt(ciphertext)\n",
    "    msg=unpad(msg.decode('utf-8'))\n",
    "    return msg"
   ]
  },
  {
   "cell_type": "code",
   "execution_count": 3,
   "metadata": {},
   "outputs": [],
   "source": [
    "key = 'Sixteen byte key'\n",
    "iv = Random.new().read(DES3.block_size)"
   ]
  },
  {
   "cell_type": "code",
   "execution_count": 4,
   "metadata": {},
   "outputs": [
    {
     "name": "stdout",
     "output_type": "stream",
     "text": [
      "b'5\\xec\\xf6N\\x96j\\xb2\\xba8\\xdd\\xc0+\\xbb%#\\xd8'\n"
     ]
    }
   ],
   "source": [
    "encryptedText=DESEncrypt(\"random text\",key,iv)\n",
    "print(encryptedText)"
   ]
  },
  {
   "cell_type": "code",
   "execution_count": 5,
   "metadata": {},
   "outputs": [
    {
     "data": {
      "text/plain": [
       "'random text'"
      ]
     },
     "execution_count": 5,
     "metadata": {},
     "output_type": "execute_result"
    }
   ],
   "source": [
    "DESDecrypt(encryptedText,key,iv)"
   ]
  },
  {
   "cell_type": "markdown",
   "metadata": {},
   "source": [
    "# DES Using Own Implementation\n",
    "Thanks to http://page.math.tu-berlin.de/~kant/teaching/hess/krypto-ws2006/des.htm"
   ]
  },
  {
   "cell_type": "code",
   "execution_count": 6,
   "metadata": {},
   "outputs": [],
   "source": [
    "from ODES import DES"
   ]
  },
  {
   "cell_type": "code",
   "execution_count": 7,
   "metadata": {},
   "outputs": [],
   "source": [
    "key = '8bytekey'"
   ]
  },
  {
   "cell_type": "code",
   "execution_count": 8,
   "metadata": {},
   "outputs": [],
   "source": [
    "des=DES(key)"
   ]
  },
  {
   "cell_type": "code",
   "execution_count": 9,
   "metadata": {},
   "outputs": [
    {
     "name": "stdout",
     "output_type": "stream",
     "text": [
      "/Wä\f",
      "nºðù1»¢Á'\n"
     ]
    }
   ],
   "source": [
    "encryptedText=des.encrypt(\"text to encrypt\")\n",
    "print(encryptedText)"
   ]
  },
  {
   "cell_type": "code",
   "execution_count": 10,
   "metadata": {},
   "outputs": [
    {
     "name": "stdout",
     "output_type": "stream",
     "text": [
      "text to encrypt\n"
     ]
    }
   ],
   "source": [
    "decryptedText=des.decrypt(encryptedText)\n",
    "print(decryptedText)"
   ]
  }
 ],
 "metadata": {
  "kernelspec": {
   "display_name": "Python 3",
   "language": "python",
   "name": "python3"
  },
  "language_info": {
   "codemirror_mode": {
    "name": "ipython",
    "version": 3
   },
   "file_extension": ".py",
   "mimetype": "text/x-python",
   "name": "python",
   "nbconvert_exporter": "python",
   "pygments_lexer": "ipython3",
   "version": "3.6.7"
  }
 },
 "nbformat": 4,
 "nbformat_minor": 4
}
